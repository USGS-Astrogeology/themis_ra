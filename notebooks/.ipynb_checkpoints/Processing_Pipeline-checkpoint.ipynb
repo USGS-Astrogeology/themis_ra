{
 "cells": [
  {
   "cell_type": "raw",
   "metadata": {
    "raw_mimetype": "text/html"
   },
   "source": [
    "<script>\n",
    "  function code_toggle() {\n",
    "    if (code_shown){\n",
    "      $('div.input').hide('500');\n",
    "      $('#toggleButton').val('Show Code')\n",
    "    } else {\n",
    "      $('div.input').show('500');\n",
    "      $('#toggleButton').val('Hide Code')\n",
    "    }\n",
    "    code_shown = !code_shown\n",
    "  }\n",
    "\n",
    "  $( document ).ready(function(){\n",
    "    code_shown=false;\n",
    "    $('div.input').hide()\n",
    "  });\n",
    "</script>\n",
    "<form action=\"javascript:code_toggle()\"><input type=\"submit\" id=\"toggleButton\" value=\"Show Code\"></form>"
   ]
  },
  {
   "cell_type": "code",
   "execution_count": 9,
   "metadata": {
    "slideshow": {
     "slide_type": "-"
    }
   },
   "outputs": [],
   "source": [
    "import sys\n",
    "import themisra\n",
    "\n",
    "import logging\n",
    "import subprocess\n",
    "import time\n",
    "\n",
    "from mpi4py import MPI\n",
    "from plio.io import io_gdal, io_hdf, io_json\n",
    "from plio.date import astrodate, julian2ls, julian2season\n",
    "\n",
    "import plio.utils\n",
    "from plio.utils import log\n",
    "from plio.utils.utils import check_file_exists, find_in_dict\n",
    "\n",
    "import themisra.processing.processing as processing\n",
    "\n",
    "from themisra.wrappers import pipelinewrapper, isiswrapper"
   ]
  },
  {
   "cell_type": "code",
   "execution_count": 10,
   "metadata": {},
   "outputs": [],
   "source": [
    "f_path = input(\"Please input a file path to a .json configuration file: \")"
   ]
  },
  {
   "cell_type": "code",
   "execution_count": 12,
   "metadata": {},
   "outputs": [
    {
     "name": "stdout",
     "output_type": "stream",
     "text": [
      "{'rtilt': True, 'workingdir': '/usgs/shareall/arsanders/themis_temp', 'outpath': '/usgs/shareall/arsanders/themis_temp', 'name': 'THEMIS', 'projection': {'name': 'None'}, 'images': '/pds_san/PDS_Safed/Mars_Odyssey/THEMIS_V01/data/odtir0_xxxx/i262xxrdr/I26201019RDR.QUB', 'resolution': [], 'deplaid': False, 'processing_pipeline': 'themis_davinci', 'tesatm': True, 'lookuptables': '/scratch/jlaura/krc_lookup344.h5', 'bands': [9, 10], 'uddw': True, 'latlon': [], 'force': True, 'ancillarydata': {'slope': '/scratch/rfergason/ti_algorithm/input_data/MOLA_HRSC/Mars_MOLA_blend200ppx_HRSC_LatScaledSlope_clon0dd_200mpp.cub', 'dustopacity': 'montone', 'emissivity': 1.0, 'elevation': '/scratch/rfergason/ti_algorithm/input_final/elevation_MOLA_HRSC/Mars_MOLA_blend200ppx_HRSC_DEM_clon0dd_200mpp_lzw.tif', 'albedo': '/scratch/jlaura/KRC/basemaps/TES_global_Albedo_Christensen_2001.tif', 'slopeazimuth': '/scratch/rfergason/ti_algorithm/input_data/MOLA_HRSC/Mars_MOLA_blend200ppx_HRSC_Aspect_clon0dd_200mpp.cub'}, 'outputformat': ['GTiff']}\n"
     ]
    }
   ],
   "source": [
    "comm = MPI.COMM_WORLD\n",
    "rank = comm.rank\n",
    "if rank == 0:\n",
    "    t_start = time.time()\n",
    "    #Parse the job input\n",
    "    job = io_json.read_json(f_path)\n",
    "    print(job)"
   ]
  },
  {
   "cell_type": "code",
   "execution_count": null,
   "metadata": {},
   "outputs": [],
   "source": []
  }
 ],
 "metadata": {
  "kernelspec": {
   "display_name": "Python 3",
   "language": "python",
   "name": "python3"
  },
  "language_info": {
   "codemirror_mode": {
    "name": "ipython",
    "version": 3
   },
   "file_extension": ".py",
   "mimetype": "text/x-python",
   "name": "python",
   "nbconvert_exporter": "python",
   "pygments_lexer": "ipython3",
   "version": "3.5.4"
  }
 },
 "nbformat": 4,
 "nbformat_minor": 2
}
