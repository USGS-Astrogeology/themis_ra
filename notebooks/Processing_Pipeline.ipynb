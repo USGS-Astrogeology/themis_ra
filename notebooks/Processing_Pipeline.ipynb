{
 "cells": [
  {
   "cell_type": "code",
   "execution_count": 1,
   "metadata": {},
   "outputs": [],
   "source": [
    "import os\n",
    "import sys\n",
    "sys.path.insert(0, os.path.abspath('/home/jlaura/themisra'))"
   ]
  },
  {
   "cell_type": "code",
   "execution_count": 21,
   "metadata": {},
   "outputs": [],
   "source": [
    "from themisra.themis_ra import process_image\n",
    "from themisra.processing.processing import optimize_pixel\n",
    "from plio.io.io_gdal import array_to_raster, GeoDataset"
   ]
  },
  {
   "cell_type": "markdown",
   "metadata": {},
   "source": [
    "## Configuration\n",
    "Here we copy/paste in one of the example configuration files and make a few small changes:\n",
    "\n",
    "1. change true to True and false to False\n",
    "2. Define a custom working_dir and then set the `outpath` and `workingdir` to our custom output"
   ]
  },
  {
   "cell_type": "code",
   "execution_count": 3,
   "metadata": {},
   "outputs": [],
   "source": [
    "working_dir = \"/scratch/jlaura/themis_temp\"\n",
    "\n",
    "job = {\"tesatm\": True,                                                                \n",
    "    \"outpath\": working_dir,                           \n",
    "    \"images\": \"/pds_san/PDS_Archive/Mars_Odyssey/THEMIS/USA_NASA_PDS_ODTSDP_100XX/ODTSDP_10006/data/odtir1_0006/i065xxrdr/I06520011RDR.QUB\",\n",
    "    \"processing_pipeline\": \"themis_davinci\",                                    \n",
    "    \"force\": True,                                                              \n",
    "    \"deplaid\": False,                                                           \n",
    "    \"workingdir\": working_dir,                       \n",
    "    \"uddw\": True,                                                               \n",
    "    \"projection\": {\"name\": \"None\"},                                             \n",
    "    \"rtilt\": True,                                                              \n",
    "    \"name\": \"THEMIS\",                                                           \n",
    "    \"outputformat\": [\"GTiff\"],                                                  \n",
    "    \"ancillarydata\": {\"emissivity\": 1.0,                                        \n",
    "        \"slope\": \"/scratch/rfergason/ti_algorithm/input_data/MOLA_HRSC/Mars_MOLA_blend200ppx_HRSC_LatScaledSlope_clon0dd_200mpp.cub\",\n",
    "        \"dustopacity\": \"montone\",                                               \n",
    "        \"albedo\": \"/scratch/jlaura/KRC/basemaps/TES_global_Albedo_Christensen_2001.tif\",\n",
    "        \"elevation\": \"/scratch/rfergason/ti_algorithm/input_final/elevation_MOLA_HRSC/Mars_MOLA_blend200ppx_HRSC_DEM_clon0dd_200mpp_lzw.tif\",\n",
    "        \"slopeazimuth\": \"/scratch/rfergason/ti_algorithm/input_data/MOLA_HRSC/Mars_MOLA_blend200ppx_HRSC_Aspect_clon0dd_200mpp.cub\"},\n",
    "    \"bands\": [9, 10],                                                           \n",
    "    \"lat_extent\": [18.44, 18.46],                                               \n",
    "    \"lon_extent\": [77.39, 77.46],                                               \n",
    "\"lookuptables\": \"/scratch/jlaura/krc_lookup344.h5\"}  "
   ]
  },
  {
   "cell_type": "markdown",
   "metadata": {},
   "source": [
    "## Pre- and Post-Processing\n",
    "\n",
    "This next cell will require a bit of time to run (the `[*]` (star) indicated that the call is running).  The process_image gets all of the ancillary data collected, projected, processed, and clipped so that the algorithm can be run.  All of the outputs are being written into the `workingdir/tmp*` defined above, where `tmp*` is going to be a uniquely generated folder (for example, `tmpgezxlkg0/`).  Once the processing is completed four arrays are returned.\n",
    "\n",
    "1. `band_a` is the lower band, e.g., band 3 if the image has band 3\n",
    "2. `band_b` is the upper band, e.g., band 9 if the image has band 9\n",
    "3. `rock_a` is the rock TI computed for `band_a`\n",
    "4. `rock_b` is the rock TI computed for `band_b`"
   ]
  },
  {
   "cell_type": "code",
   "execution_count": 4,
   "metadata": {},
   "outputs": [
    {
     "name": "stdout",
     "output_type": "stream",
     "text": [
      "Working dir created at /scratch/jlaura/themis_temp/tmpf84_7vaw\n",
      "Preprocessing completed.\n",
      "[18.44, 18.46] [77.39, 77.46]\n",
      "Davinci processing completed.\n",
      "Ancillary data collection completed.\n",
      "/scratch/jlaura/themis_temp/tmpf84_7vaw/I06520011RDR_dvprocessed_temp_proj_cropped.cub\n",
      "Bands 4 and 9 extracted.\n",
      "Rock 4 and rock 9 computed.\n",
      "Pre- & post-processing complete.\n"
     ]
    }
   ],
   "source": [
    "band_a, band_b, rock_a, rock_b = process_image(job, bands=[4,9])  # The data set that was requested for processing does not contain band 3..."
   ]
  },
  {
   "cell_type": "markdown",
   "metadata": {},
   "source": [
    "## Apply the optimization algorithm to each pixel\n",
    "Now that the data has been returned, we can apply the optimization algorithm to each pixel.\n",
    "\n",
    "The results array contains 5 dimensions (bands):\n",
    "1. alpha\n",
    "2. fines in band a\n",
    "3. fines in band b\n",
    "4. success boolean for the optimization\n",
    "5. the number of iterations needed to converge to a solution\n",
    "\n",
    "I walked out of the office while this ran....maybe 5 minutes?"
   ]
  },
  {
   "cell_type": "code",
   "execution_count": 11,
   "metadata": {},
   "outputs": [],
   "source": [
    "# Create the results array\n",
    "result = np.zeros((band_a.shape[0], band_a.shape[1], 5))\n",
    "for i in range(band_a.shape[0]):\n",
    "    for j in range(band_a.shape[1]):\n",
    "        result[i,j,:] = optimize_pixel(band_a[i,j],band_b[i,j], rock_a[i,j], rock_b[i,j])"
   ]
  },
  {
   "cell_type": "markdown",
   "metadata": {},
   "source": [
    "## Visualize the results in the notebook\n",
    "To visualize the results within this notebook we can simply use the built in plotting functionality."
   ]
  },
  {
   "cell_type": "code",
   "execution_count": 12,
   "metadata": {},
   "outputs": [
    {
     "data": {
      "text/plain": [
       "<matplotlib.colorbar.Colorbar at 0x2b41fbae3cc0>"
      ]
     },
     "execution_count": 12,
     "metadata": {},
     "output_type": "execute_result"
    },
    {
     "data": {
      "image/png": "[encoded data removed]",
      "text/plain": [
       "<matplotlib.figure.Figure at 0x2b41faf4f860>"
      ]
     },
     "metadata": {},
     "output_type": "display_data"
    }
   ],
   "source": [
    "# Look at the alpha band (band 0)\n",
    "imshow(result[:,:,0], cmap='Blues')\n",
    "colorbar()"
   ]
  },
  {
   "cell_type": "code",
   "execution_count": 13,
   "metadata": {},
   "outputs": [
    {
     "data": {
      "text/plain": [
       "<matplotlib.colorbar.Colorbar at 0x2b420090a208>"
      ]
     },
     "execution_count": 13,
     "metadata": {},
     "output_type": "execute_result"
    },
    {
     "data": {
      "image/png": "[encoded data removed]",
      "text/plain": [
       "<matplotlib.figure.Figure at 0x2b41faf4f390>"
      ]
     },
     "metadata": {},
     "output_type": "display_data"
    }
   ],
   "source": [
    "# Look at the fines 3 band (band 1)\n",
    "imshow(result[:,:,1], cmap='Blues')\n",
    "colorbar()"
   ]
  },
  {
   "cell_type": "code",
   "execution_count": 14,
   "metadata": {},
   "outputs": [
    {
     "data": {
      "text/plain": [
       "<matplotlib.colorbar.Colorbar at 0x2b42009cab38>"
      ]
     },
     "execution_count": 14,
     "metadata": {},
     "output_type": "execute_result"
    },
    {
     "data": {
      "image/png": "[encoded data removed]",
      "text/plain": [
       "<matplotlib.figure.Figure at 0x2b41fbaf50b8>"
      ]
     },
     "metadata": {},
     "output_type": "display_data"
    }
   ],
   "source": [
    "# Look at the fines 9 band (band 1)\n",
    "imshow(result[:,:,2], cmap='Blues')\n",
    "colorbar()"
   ]
  },
  {
   "cell_type": "markdown",
   "metadata": {},
   "source": [
    "## Output the result array to a geotiff so that it can get loaded into ArcMap / QGIS"
   ]
  },
  {
   "cell_type": "code",
   "execution_count": 20,
   "metadata": {},
   "outputs": [],
   "source": [
    "#These two lines are the only ones that would need to be updated.\n",
    "filename = '/scratch/jlaura/themis_temp/tmpf84_7vaw/myresult.tif'  # I got the path from the print out above when the data is being processed\n",
    "temperature = GeoDataset('/scratch/jlaura/themis_temp/tmpf84_7vaw/I06520011RDR_dvprocessed_temp_proj_cropped.cub') \n",
    "\n",
    "projection = temperature.dataset.GetProjection()\n",
    "geotransform = temperature.dataset.GetGeoTransform()\n",
    "bittype = 'GDT_Float32'\n",
    "ndv = 0  # No Data Value\n",
    "\n",
    "# This line writes out the Geotiff\n",
    "array_to_raster(result, filename, projection=projection, geotransform=geotransform, bittype=bittype, ndv=ndv)"
   ]
  }
 ],
 "metadata": {
  "kernelspec": {
   "display_name": "Python (TES)",
   "language": "python",
   "name": "tes"
  },
  "language_info": {
   "codemirror_mode": {
    "name": "ipython",
    "version": 3
   },
   "file_extension": ".py",
   "mimetype": "text/x-python",
   "name": "python",
   "nbconvert_exporter": "python",
   "pygments_lexer": "ipython3",
   "version": "3.5.2"
  }
 },
 "nbformat": 4,
 "nbformat_minor": 2
}
