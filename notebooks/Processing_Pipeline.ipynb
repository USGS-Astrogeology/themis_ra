{
 "cells": [
  {
   "cell_type": "code",
   "execution_count": 26,
   "metadata": {
    "slideshow": {
     "slide_type": "-"
    }
   },
   "outputs": [],
   "source": [
    "import sys\n",
    "import themisra\n",
    "\n",
    "import logging\n",
    "import subprocess\n",
    "import time\n",
    "\n",
    "from mpi4py import MPI\n",
    "from plio.io import io_gdal, io_hdf, io_json\n",
    "from plio.date import astrodate, julian2ls, julian2season\n",
    "\n",
    "import plio.utils\n",
    "from plio.utils import log\n",
    "from plio.utils.utils import check_file_exists, find_in_dict\n",
    "\n",
    "import themisra.processing.processing as processing\n",
    "\n",
    "from themisra.wrappers import pipelinewrapper, isiswrapper"
   ]
  },
  {
   "cell_type": "markdown",
   "metadata": {},
   "source": [
    "Some current configuration files are located at:\n",
    "/usgs/shareall/arsanders/themis_ra/examples/config.json"
   ]
  },
  {
   "cell_type": "code",
   "execution_count": 27,
   "metadata": {},
   "outputs": [
    {
     "name": "stdout",
     "output_type": "stream",
     "text": [
      "Please input a file path to a .json configuration file: /usgs/shareall/arsanders/themis_ra/examples/config.json\n"
     ]
    }
   ],
   "source": [
    "f_path = input(\"Please input a file path to a .json configuration file: \")"
   ]
  },
  {
   "cell_type": "code",
   "execution_count": 28,
   "metadata": {},
   "outputs": [
    {
     "ename": "NameError",
     "evalue": "name 'isistemp' is not defined",
     "output_type": "error",
     "traceback": [
      "\u001b[0;31m---------------------------------------------------------------------------\u001b[0m",
      "\u001b[0;31mNameError\u001b[0m                                 Traceback (most recent call last)",
      "\u001b[0;32m<ipython-input-28-bf2fefb83ded>\u001b[0m in \u001b[0;36m<module>\u001b[0;34m()\u001b[0m\n\u001b[1;32m     10\u001b[0m \u001b[0;34m\u001b[0m\u001b[0m\n\u001b[1;32m     11\u001b[0m     \u001b[0misitemp\u001b[0m\u001b[0;34m,\u001b[0m \u001b[0misisrad\u001b[0m \u001b[0;34m=\u001b[0m \u001b[0mprocessing\u001b[0m\u001b[0;34m.\u001b[0m\u001b[0mprocess_image\u001b[0m\u001b[0;34m(\u001b[0m\u001b[0mjob\u001b[0m\u001b[0;34m,\u001b[0m\u001b[0mworking_path\u001b[0m\u001b[0;34m)\u001b[0m\u001b[0;34m\u001b[0m\u001b[0m\n\u001b[0;32m---> 12\u001b[0;31m     \u001b[0mprocessing\u001b[0m\u001b[0;34m.\u001b[0m\u001b[0mmap_ancillary\u001b[0m\u001b[0;34m(\u001b[0m\u001b[0misistemp\u001b[0m\u001b[0;34m,\u001b[0m \u001b[0mjob\u001b[0m\u001b[0;34m)\u001b[0m\u001b[0;34m\u001b[0m\u001b[0m\n\u001b[0m\u001b[1;32m     13\u001b[0m \u001b[0;34m\u001b[0m\u001b[0m\n",
      "\u001b[0;31mNameError\u001b[0m: name 'isistemp' is not defined"
     ]
    }
   ],
   "source": [
    "comm = MPI.COMM_WORLD\n",
    "rank = comm.rank\n",
    "if rank == 0:\n",
    "    t_start = time.time()\n",
    "    #Parse the job input\n",
    "    job = io_json.read_json(f_path)\n",
    "    working_path = plio.utils.utils.create_dir(basedir=job['workingdir'])\n",
    "    \n",
    "    processing.preprocess_image(job,working_path)\n",
    "    \n",
    "    isitemp, isisrad = processing.process_image(job,working_path)\n",
    "    processing.map_ancillary(isistemp, job)\n",
    "    "
   ]
  },
  {
   "cell_type": "code",
   "execution_count": null,
   "metadata": {},
   "outputs": [],
   "source": []
  }
 ],
 "metadata": {
  "kernelspec": {
   "display_name": "Python 3",
   "language": "python",
   "name": "python3"
  },
  "language_info": {
   "codemirror_mode": {
    "name": "ipython",
    "version": 3
   },
   "file_extension": ".py",
   "mimetype": "text/x-python",
   "name": "python",
   "nbconvert_exporter": "python",
   "pygments_lexer": "ipython3",
   "version": "3.5.4"
  }
 },
 "nbformat": 4,
 "nbformat_minor": 2
}
